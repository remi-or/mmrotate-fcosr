{
 "cells": [
  {
   "cell_type": "code",
   "execution_count": 1,
   "metadata": {},
   "outputs": [],
   "source": [
    "import sys\n",
    "from argparse import Namespace\n",
    "from tools.train import main\n",
    "\n",
    "sys.stdout.fileno = lambda : 1\n",
    "\n",
    "args = Namespace(**dict(\n",
    "    config=\"configs/fcosr/fcosr_res50_32x4d_fpn_3x_dota10_single.py\",\n",
    "    work_dir=None,\n",
    "    resume_from=None,\n",
    "    auto_resume=True,\n",
    "    no_validate=True,\n",
    "    gpus=1,\n",
    "    gpu_ids=None,\n",
    "    seed=42,\n",
    "    diff_seed=False,\n",
    "    deterministic=True,\n",
    "    cfg_options=None,\n",
    "    launcher='none'))"
   ]
  },
  {
   "cell_type": "code",
   "execution_count": 2,
   "metadata": {},
   "outputs": [
    {
     "name": "stderr",
     "output_type": "stream",
     "text": [
      "c:\\Users\\meri2\\Documents\\mmrotate-fcosr\\mmrotate\\utils\\setup_env.py:38: UserWarning: Setting OMP_NUM_THREADS environment variable for each process to be 1 in default, to avoid your system being overloaded, please further tune the variable for optimal performance in your application as needed.\n",
      "  warnings.warn(\n",
      "c:\\Users\\meri2\\Documents\\mmrotate-fcosr\\mmrotate\\utils\\setup_env.py:48: UserWarning: Setting MKL_NUM_THREADS environment variable for each process to be 1 in default, to avoid your system being overloaded, please further tune the variable for optimal performance in your application as needed.\n",
      "  warnings.warn(\n"
     ]
    }
   ],
   "source": [
    "main(args)"
   ]
  }
 ],
 "metadata": {
  "interpreter": {
   "hash": "40c2207bf340c57e2abd749771f5a430f07aaa9ea3b18adc08a8e5fdda3822d0"
  },
  "kernelspec": {
   "display_name": "Python 3.9.12 ('MMRotate')",
   "language": "python",
   "name": "python3"
  },
  "language_info": {
   "codemirror_mode": {
    "name": "ipython",
    "version": 3
   },
   "file_extension": ".py",
   "mimetype": "text/x-python",
   "name": "python",
   "nbconvert_exporter": "python",
   "pygments_lexer": "ipython3",
   "version": "3.9.12"
  },
  "orig_nbformat": 4
 },
 "nbformat": 4,
 "nbformat_minor": 2
}
